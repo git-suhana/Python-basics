{
 "cells": [
  {
   "cell_type": "code",
   "execution_count": 2,
   "id": "3534c126-ceda-42b7-9cdf-778d99bed68a",
   "metadata": {},
   "outputs": [
    {
     "name": "stdout",
     "output_type": "stream",
     "text": [
      "[9, 6, 7, 4, 5, 2, 8]\n"
     ]
    }
   ],
   "source": [
    "# 1) Remove duplicates from a list:\n",
    "\n",
    "list= [9,6,7,4,5,2,2,8]\n",
    "list= [x for i, x in enumerate(list) if x not in list[:i]]\n",
    "print(list)\n",
    "\n"
   ]
  },
  {
   "cell_type": "code",
   "execution_count": 3,
   "id": "06bb3779-4670-4db9-9349-7a0972cb6571",
   "metadata": {},
   "outputs": [
    {
     "name": "stdout",
     "output_type": "stream",
     "text": [
      "FOSXA- classplus login\n"
     ]
    }
   ],
   "source": [
    "#2) Read a file in python:\n",
    "\n",
    "with open('read.txt', 'r') as read:\n",
    "    content = read.read()\n",
    "    print(content)"
   ]
  },
  {
   "cell_type": "code",
   "execution_count": 4,
   "id": "c38d9bc0-c53e-4a92-aff5-3a8d09158088",
   "metadata": {},
   "outputs": [],
   "source": [
    "#3) To write a file in python:\n",
    "\n",
    "with open('read.txt', 'w') as read:\n",
    "    read.write(\"success\")"
   ]
  },
  {
   "cell_type": "code",
   "execution_count": 5,
   "id": "fe5fb7a5-cb22-42c8-a1d4-e0658ee1121b",
   "metadata": {},
   "outputs": [
    {
     "name": "stdout",
     "output_type": "stream",
     "text": [
      "success\n"
     ]
    }
   ],
   "source": [
    "with open('read.txt','r') as read:\n",
    "    new_added= read.read()\n",
    "    print(new_added)"
   ]
  },
  {
   "cell_type": "code",
   "execution_count": null,
   "id": "dd2e469a-5685-45d2-9320-c716b2e4ad50",
   "metadata": {},
   "outputs": [],
   "source": [
    "#4)\n",
    "zip() is used for combining multiple lists into an iterator of tuple.\n"
   ]
  },
  {
   "cell_type": "code",
   "execution_count": 20,
   "id": "9709cb61-de13-45ea-a71a-f5adffd4e728",
   "metadata": {},
   "outputs": [
    {
     "name": "stdout",
     "output_type": "stream",
     "text": [
      "The car showroom\n"
     ]
    }
   ],
   "source": [
    "#5) convert list to string:\n",
    "\n",
    "list=['The','car','showroom']\n",
    "str=' '.join(list)\n",
    "print(str)"
   ]
  },
  {
   "cell_type": "code",
   "execution_count": 21,
   "id": "fbe74779-0f0f-4f30-8b01-b1a7d924d589",
   "metadata": {},
   "outputs": [
    {
     "name": "stdout",
     "output_type": "stream",
     "text": [
      "          *\n",
      "         ***\n",
      "        *****\n",
      "       *******\n",
      "      *********\n",
      "     ***********\n",
      "    *************\n",
      "   ***************\n",
      "  *****************\n",
      " *******************\n"
     ]
    }
   ],
   "source": [
    "#6)pyramid star pattern :\n",
    "\n",
    "for i in range(10):\n",
    "    print(' '*(10-i)+'*'*(2*i+1))"
   ]
  },
  {
   "cell_type": "code",
   "execution_count": 24,
   "id": "f8785e58-97f9-4ca9-b2dc-11cf58e14f80",
   "metadata": {},
   "outputs": [
    {
     "name": "stdout",
     "output_type": "stream",
     "text": [
      "88\n"
     ]
    }
   ],
   "source": [
    "#7) sum of two numbers:\n",
    "def add(a,b):\n",
    "    return a+b\n",
    "print(add(22,66))"
   ]
  },
  {
   "cell_type": "code",
   "execution_count": 28,
   "id": "dcce2d6b-c1f5-4620-ac14-c69cadeeaa9b",
   "metadata": {},
   "outputs": [
    {
     "name": "stdout",
     "output_type": "stream",
     "text": [
      "Equilateral triangle\n",
      "Isosceles triangle\n",
      "Scalene triangle\n"
     ]
    }
   ],
   "source": [
    "#8)   triangle is Equilateral, Isosceles, or Scalene?\n",
    "\n",
    "def triangle(a,b,c):\n",
    "    if a==b==c:\n",
    "        return 'Equilateral triangle'\n",
    "    elif a==b or b==c or a==c:\n",
    "        return 'Isosceles triangle'\n",
    "    else:\n",
    "        return 'Scalene triangle'\n",
    "print(triangle(2,2,2))\n",
    "print(triangle(4,4,2))\n",
    "print(triangle(9,5,3))\n",
    "      \n",
    "        \n"
   ]
  },
  {
   "cell_type": "code",
   "execution_count": null,
   "id": "b15f3f4b-bb4e-4a21-8913-9c97660c5531",
   "metadata": {},
   "outputs": [],
   "source": []
  }
 ],
 "metadata": {
  "kernelspec": {
   "display_name": "Python 3 (ipykernel)",
   "language": "python",
   "name": "python3"
  },
  "language_info": {
   "codemirror_mode": {
    "name": "ipython",
    "version": 3
   },
   "file_extension": ".py",
   "mimetype": "text/x-python",
   "name": "python",
   "nbconvert_exporter": "python",
   "pygments_lexer": "ipython3",
   "version": "3.12.7"
  }
 },
 "nbformat": 4,
 "nbformat_minor": 5
}
